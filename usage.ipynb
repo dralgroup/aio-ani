{
 "cells": [
  {
   "cell_type": "markdown",
   "metadata": {},
   "source": [
    "# All-in-one ANI network and models\n"
   ]
  },
  {
   "cell_type": "markdown",
   "metadata": {},
   "source": [
    "## Introduction\n",
    "\n",
    "All-in-one ANI network represents a general solution for multi-level data learning based on [ANI](http://pubs.rsc.org/en/Content/ArticleLanding/2017/SC/C6SC05720A) framework where data from different QC levels are trained simultaneously with additional reference levels of theory as input feature alongside the geometric features. \n",
    "\n",
    "Here we provide an example of such model trained on CCSD(T)*/CBS and ωB97X/def2-TZVP level of theory containing HCNO elements and show its usage integrated with [MLatom](https://pubs.acs.org/doi/full/10.1021/acs.jctc.3c01203)."
   ]
  },
  {
   "cell_type": "markdown",
   "metadata": {},
   "source": [
    "## Usage"
   ]
  },
  {
   "cell_type": "markdown",
   "metadata": {},
   "source": [
    "0 - Load necessary modules"
   ]
  },
  {
   "cell_type": "code",
   "execution_count": null,
   "metadata": {},
   "outputs": [],
   "source": [
    "import mlatom as ml\n",
    "from aio_ani import AIO_ANI"
   ]
  },
  {
   "cell_type": "markdown",
   "metadata": {},
   "source": [
    "1 - Load the model\n",
    "\n",
    "Only path to the model is required to load the model:\n",
    "- `model_path` (str): Specify the path to the model. "
   ]
  },
  {
   "cell_type": "code",
   "execution_count": null,
   "metadata": {},
   "outputs": [],
   "source": [
    "model_path = './AIO_ANI_model.pt'\n",
    "model = AIO_ANI(model_path=model_path)"
   ]
  },
  {
   "cell_type": "markdown",
   "metadata": {},
   "source": [
    "2 - Make prediction\n",
    "\n",
    "We will use MLatom to load molecule. The norm for prediction is as usual in MLatom standard format:\n",
    "- `molecule` (mlatom.molecule, required): Specify the molecule the prediction will be performed.\n",
    "- `level` (str, optional): Specify the level of theory for prediction. We provide two options here: `\"CCSD(T)*/CBS\"` and `\"wB97X/def2-TZVP\"`. Default `\"CCSD(T)*/CBS\"`.\n",
    "- `calculate_energy` (bool, optional): whether to calculate energy.\n",
    "- `calculate_energy_gradients` (bool, optional): whether to calculate gradients.\n",
    "- `calculate_hessian` (bool, optional): whether to calculate hessian."
   ]
  },
  {
   "cell_type": "code",
   "execution_count": null,
   "metadata": {},
   "outputs": [],
   "source": [
    "mol = ml.data.molecule.from_xyz_string('''5\n",
    "\n",
    "C         0.0000000000        0.0000000000        0.0000000000\n",
    "H         1.0870000000        0.0000000000        0.0000000000\n",
    "H        -0.3623333220       -1.0248334322       -0.0000000000\n",
    "H        -0.3623333220        0.5124167161       -0.8875317869\n",
    "H        -0.3623333220        0.5124167161        0.8875317869\n",
    "''')\n",
    "\n",
    "model.predict(\n",
    "    molecule=mol, \n",
    "    level='wB97X/def2-TZVP',\n",
    "    calculate_energy=True, \n",
    "    calculate_energy_gradients=True, \n",
    "    calculate_hessian=True)\n",
    "\n",
    "print(mol.energy)\n",
    "print(mol.get_energy_gradients())\n",
    "print(mol.hessian)"
   ]
  }
 ],
 "metadata": {
  "language_info": {
   "name": "python"
  }
 },
 "nbformat": 4,
 "nbformat_minor": 2
}
